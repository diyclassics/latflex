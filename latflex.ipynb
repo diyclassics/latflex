{
 "cells": [
  {
   "cell_type": "code",
   "execution_count": 1,
   "metadata": {},
   "outputs": [],
   "source": [
    "## Script to download the UD treebanks\n",
    "## Uncomment as necessary\n",
    "\n",
    "# !sh download_ud.sh"
   ]
  },
  {
   "cell_type": "code",
   "execution_count": 2,
   "metadata": {},
   "outputs": [],
   "source": [
    "# Imports\n",
    "\n",
    "import pandas as pd\n",
    "from cltkreaders.readers import UDCorpusReader\n",
    "from latintools import preprocess"
   ]
  },
  {
   "cell_type": "code",
   "execution_count": 3,
   "metadata": {},
   "outputs": [],
   "source": [
    "# Set up corpus\n",
    "\n",
    "UDR = UDCorpusReader('data')"
   ]
  },
  {
   "cell_type": "code",
   "execution_count": 4,
   "metadata": {},
   "outputs": [],
   "source": [
    "# Get sentence data\n",
    "\n",
    "sent_dicts = UDR.sent_dicts()"
   ]
  },
  {
   "cell_type": "code",
   "execution_count": 5,
   "metadata": {},
   "outputs": [],
   "source": [
    "# Limit sentence data to verbs\n",
    "\n",
    "verbs = []\n",
    "\n",
    "for sent_dict in sent_dicts:\n",
    "    for item in sent_dict:\n",
    "        if item['UPOS'] == 'VERB':\n",
    "            verbs.append(({'lemma': item['LEMMA'], 'form': item['FORM'], 'feats': item['FEATS']}))"
   ]
  },
  {
   "cell_type": "code",
   "execution_count": 6,
   "metadata": {},
   "outputs": [],
   "source": [
    "# Helper function to expand feats\n",
    "\n",
    "def expand_feats(feat):\n",
    "    # This is what the feats look like, e.g.:\n",
    "    # Mood=Ind|Number=Plur|Person=3|Tense=Pres|VerbForm=Fin|Voice=Act\n",
    "    feats = feat.split('|')\n",
    "    feats_dict = {}\n",
    "    for feat in feats:\n",
    "        key, value = feat.split('=')\n",
    "        feats_dict[key] = value\n",
    "    return feats_dict"
   ]
  },
  {
   "cell_type": "code",
   "execution_count": 7,
   "metadata": {},
   "outputs": [],
   "source": [
    "# Expand feats\n",
    "\n",
    "expanded_verbs = []\n",
    "\n",
    "for verb in verbs:\n",
    "    expanded_verb = {}\n",
    "    expanded_verb['lemma'] = verb['lemma']\n",
    "    expanded_verb['form'] = verb['form']\n",
    "    expanded_verb.update(expand_feats(verb['feats']))\n",
    "    expanded_verbs.append(expanded_verb)"
   ]
  },
  {
   "cell_type": "code",
   "execution_count": 8,
   "metadata": {},
   "outputs": [],
   "source": [
    "# Create dataframe for streamlit app\n",
    "\n",
    "df = pd.DataFrame(expanded_verbs)\n",
    "df = df[df['VerbForm'] == 'Fin']\n",
    "df = df[['lemma', 'form', 'Mood', 'Number', 'Person', 'Tense', 'Voice']]\n",
    "df.columns = ['lemma', 'form', 'person', 'number', 'tense', 'mood', 'voice']\n",
    "df['lemma'] = df['lemma'].apply(lambda x: preprocess(x))\n",
    "df['form'] = df['form'].apply(lambda x: preprocess(x))\n",
    "df['tense'] = df['tense'].astype(str)"
   ]
  },
  {
   "cell_type": "code",
   "execution_count": 9,
   "metadata": {},
   "outputs": [],
   "source": [
    "# Save dataframe\n",
    "\n",
    "df.to_csv('data/verbs.tsv', sep='\\t', index=False)"
   ]
  }
 ],
 "metadata": {
  "kernelspec": {
   "display_name": "latflex",
   "language": "python",
   "name": "python3"
  },
  "language_info": {
   "codemirror_mode": {
    "name": "ipython",
    "version": 3
   },
   "file_extension": ".py",
   "mimetype": "text/x-python",
   "name": "python",
   "nbconvert_exporter": "python",
   "pygments_lexer": "ipython3",
   "version": "3.10.8"
  },
  "orig_nbformat": 4,
  "vscode": {
   "interpreter": {
    "hash": "91bbab2c29989ef64e48db8d2a667505b215253af06dd2aca459ecb7e8032b86"
   }
  }
 },
 "nbformat": 4,
 "nbformat_minor": 2
}
